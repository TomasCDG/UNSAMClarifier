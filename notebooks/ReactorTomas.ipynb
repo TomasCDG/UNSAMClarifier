{
 "cells": [
  {
   "cell_type": "markdown",
   "metadata": {},
   "source": [
    "# cálculo de eficiencia"
   ]
  },
  {
   "cell_type": "code",
   "execution_count": 16,
   "metadata": {},
   "outputs": [],
   "source": [
    "#CAUDAL\n",
    "Q= 300*24\n",
    "#DBO ENTRADA\n",
    "S0= 300\n",
    "#DBO SALIDA\n",
    "S= 30"
   ]
  },
  {
   "cell_type": "code",
   "execution_count": 2,
   "metadata": {},
   "outputs": [],
   "source": [
    "def efficiency(starting_dbo,final_dbo):\n",
    "    e =((starting_dbo-final_dbo)/starting_dbo)\n",
    "    if final_dbo == 0:\n",
    "        raise ValueError(\"Error. you can't have an an efficiency of 100%\")\n",
    "    elif e < 1 and e > 0 :\n",
    "        if e > 0.98:\n",
    "            print(\"\"\"your efficiency is maybe too optimist. \\nPlease consider designing a train of reactors or improving the preceding treatment.\"\"\")\n",
    "        return e\n",
    "    else:\n",
    "        raise ValueError(f'Error, check your numbers. You have an efficiency of {e}')    "
   ]
  },
  {
   "cell_type": "code",
   "execution_count": 3,
   "metadata": {},
   "outputs": [
    {
     "data": {
      "text/plain": [
       "0.9"
      ]
     },
     "execution_count": 3,
     "metadata": {},
     "output_type": "execute_result"
    }
   ],
   "source": [
    "eff = efficiency(S0,S)\n",
    "eff"
   ]
  },
  {
   "cell_type": "markdown",
   "metadata": {},
   "source": [
    "------------------"
   ]
  },
  {
   "cell_type": "markdown",
   "metadata": {},
   "source": [
    "# Volumen"
   ]
  },
  {
   "cell_type": "markdown",
   "metadata": {},
   "source": [
    "## ask for the kind of wastewater"
   ]
  },
  {
   "cell_type": "code",
   "execution_count": 4,
   "metadata": {},
   "outputs": [],
   "source": [
    "def watertype():\n",
    "    possibletypes = ['sewage','industrial']\n",
    "    print(\"Please select which kind of wastewater are you working with. \\nChoose 'sewage' for typical urban wastewater\\nChoose 'industrial' for industrial wastewater\")\n",
    "    watertype = input()\n",
    "    while watertype not in possibletypes:\n",
    "        print('\\nPlease enter a valid answer')\n",
    "        watertype = input()\n",
    "    return str(watertype)\n",
    "            \n",
    "def biblio():\n",
    "    if watertype == 'sewage':\n",
    "        print(\"\\nWould you like to see the typical design values and ranges for typical sewage wastewater from now on?\\nSelect 1 for 'yes' and 0 for 'no'\")\n",
    "        bibliography = input()\n",
    "        if bibliography == \"1\" :\n",
    "            print('Alright. Showing you the bibliography.')\n",
    "            return bibliography\n",
    "        elif bibliography == \"0\":\n",
    "            print(\"Alright\")\n",
    "            return bibliography\n",
    "        else:\n",
    "            raise ValueError('We need a binary answer1')\n",
    "        \n",
    "    elif watertype == 'industrial':\n",
    "        print(\"\\nWould you like to see some typical industrial values from bibliography?\")\n",
    "        if bibliography == \"1\":\n",
    "            print('Alright. Showing you the bibliography.')\n",
    "            return bibliography\n",
    "        elif bibliography == \"0\":\n",
    "            print(\"Alright\")\n",
    "            return bibliography\n",
    "        else:\n",
    "            raise ValueError('We need a binary answer2')"
   ]
  },
  {
   "cell_type": "code",
   "execution_count": 5,
   "metadata": {},
   "outputs": [
    {
     "name": "stdout",
     "output_type": "stream",
     "text": [
      "Please select which kind of wastewater are you working with. \n",
      "Choose 'sewage' for typical urban wastewater\n",
      "Choose 'industrial' for industrial wastewater\n",
      "sewage\n"
     ]
    }
   ],
   "source": [
    "watertype = watertype()"
   ]
  },
  {
   "cell_type": "markdown",
   "metadata": {},
   "source": [
    "### you need to return them separately and store them elsewhere"
   ]
  },
  {
   "cell_type": "code",
   "execution_count": 68,
   "metadata": {},
   "outputs": [
    {
     "name": "stdout",
     "output_type": "stream",
     "text": [
      "Please select which kind of wastewater are you working with. \n",
      "Choose 'sewage' for typical urban wastewater\n",
      "Choose 'industrial' for industrial wastewater\n",
      "sewage\n"
     ]
    }
   ],
   "source": [
    "watertype = watertype()"
   ]
  },
  {
   "cell_type": "code",
   "execution_count": 184,
   "metadata": {},
   "outputs": [
    {
     "name": "stdout",
     "output_type": "stream",
     "text": [
      "\n",
      "Would you like to see the typical design values and ranges for typical sewage wastewater from now on?\n",
      "Select 1 for 'yes' and 0 for 'no'\n",
      "1\n",
      "Alright. Showing you the bibliography.\n"
     ]
    }
   ],
   "source": [
    "bibliography = biblio()"
   ]
  },
  {
   "cell_type": "code",
   "execution_count": 6,
   "metadata": {},
   "outputs": [],
   "source": [
    "bibliography = '1'"
   ]
  },
  {
   "cell_type": "markdown",
   "metadata": {},
   "source": [
    "## input variables"
   ]
  },
  {
   "cell_type": "code",
   "execution_count": 7,
   "metadata": {
    "scrolled": true
   },
   "outputs": [
    {
     "data": {
      "text/html": [
       "<div>\n",
       "<style scoped>\n",
       "    .dataframe tbody tr th:only-of-type {\n",
       "        vertical-align: middle;\n",
       "    }\n",
       "\n",
       "    .dataframe tbody tr th {\n",
       "        vertical-align: top;\n",
       "    }\n",
       "\n",
       "    .dataframe thead th {\n",
       "        text-align: right;\n",
       "    }\n",
       "</style>\n",
       "<table border=\"1\" class=\"dataframe\">\n",
       "  <thead>\n",
       "    <tr style=\"text-align: right;\">\n",
       "      <th></th>\n",
       "      <th>lower_range</th>\n",
       "      <th>higher_range</th>\n",
       "      <th>typical</th>\n",
       "      <th>unit</th>\n",
       "    </tr>\n",
       "  </thead>\n",
       "  <tbody>\n",
       "    <tr>\n",
       "      <th>Y</th>\n",
       "      <td>0.4</td>\n",
       "      <td>0.8</td>\n",
       "      <td>0.65</td>\n",
       "      <td>mgSSV/mgDBO5</td>\n",
       "    </tr>\n",
       "    <tr>\n",
       "      <th>ks</th>\n",
       "      <td>25</td>\n",
       "      <td>60</td>\n",
       "      <td>60</td>\n",
       "      <td>mgDBO5/L</td>\n",
       "    </tr>\n",
       "    <tr>\n",
       "      <th>umax</th>\n",
       "      <td>not available</td>\n",
       "      <td>not available</td>\n",
       "      <td>0.5</td>\n",
       "      <td>1/d</td>\n",
       "    </tr>\n",
       "    <tr>\n",
       "      <th>X</th>\n",
       "      <td>not available</td>\n",
       "      <td>not available</td>\n",
       "      <td>3000</td>\n",
       "      <td>mgSSV/L</td>\n",
       "    </tr>\n",
       "  </tbody>\n",
       "</table>\n",
       "</div>"
      ],
      "text/plain": [
       "        lower_range   higher_range typical          unit\n",
       "Y               0.4            0.8    0.65  mgSSV/mgDBO5\n",
       "ks               25             60      60      mgDBO5/L\n",
       "umax  not available  not available     0.5           1/d\n",
       "X     not available  not available    3000       mgSSV/L"
      ]
     },
     "execution_count": 7,
     "metadata": {},
     "output_type": "execute_result"
    }
   ],
   "source": [
    "import pandas as pd\n",
    "lista= {'Y' : [0.4,0.8,0.65,'mgSSV/mgDBO5'],\n",
    "        'ks' : [25,60,60,'mgDBO5/L'],\n",
    "        'umax' : ['not available', 'not available', 0.5, '1/d'],\n",
    "        'X' : ['not available', 'not available', 3000, 'mgSSV/L']\n",
    "       }\n",
    "commonvals = pd.DataFrame(lista,)\n",
    "commonvals = commonvals.transpose()\n",
    "commonvals.columns = ['lower_range','higher_range','typical','unit']\n",
    "\n",
    "commonvals"
   ]
  },
  {
   "cell_type": "code",
   "execution_count": 8,
   "metadata": {},
   "outputs": [],
   "source": [
    "def infogive(variable):\n",
    "    print(\n",
    "f\"\"\"lower limit: {commonvals.loc[variable,'lower_range']}\n",
    "higher limit: {commonvals.loc[variable,'higher_range']}\n",
    "typical value: {commonvals.loc[variable,'typical']}\n",
    "unit {commonvals.loc[variable,'unit']}\"\"\")\n"
   ]
  },
  {
   "cell_type": "code",
   "execution_count": 9,
   "metadata": {},
   "outputs": [],
   "source": [
    "def yvars():\n",
    "    print('Enter please your Y (relacón masa celular formada/sustrato consumido)')\n",
    "    if bibliography == '1':\n",
    "        infogive('Y')\n",
    "        \n",
    "    y=float(input())    \n",
    "    print(f\"{y} mgSSV/mgDBO5\")\n",
    "        \n",
    "    return y\n",
    "\n",
    "def ksvars():\n",
    "    print('Enter please your ks (constante de sustrato')\n",
    "    if bibliography == '1':\n",
    "        infogive('ks')\n",
    "        \n",
    "    ks=float(input())    \n",
    "    print(f\"{ks} mgDBO5/L \")\n",
    "        \n",
    "    return ks\n",
    "\n",
    "def umaxvars():\n",
    "    print('Enter please your umax (tasa de crecimiento específico máximo)')\n",
    "    if bibliography == '1':\n",
    "        infogive('umax')\n",
    "        \n",
    "    umax=float(input())    \n",
    "    print(f\"{umax} 1/d\")\n",
    "        \n",
    "    return umax\n",
    "\n",
    "def xvars():\n",
    "    print('Enter please your Y (biomasa en el reactor)')\n",
    "    if bibliography == '1':\n",
    "        infogive('X')\n",
    "        \n",
    "    X=float(input())    \n",
    "    print(f\"{X} mgSSV/L\")\n",
    "        \n",
    "    return X"
   ]
  },
  {
   "cell_type": "code",
   "execution_count": 10,
   "metadata": {},
   "outputs": [
    {
     "name": "stdout",
     "output_type": "stream",
     "text": [
      "Enter please your Y (relacón masa celular formada/sustrato consumido)\n",
      "lower limit: 0.4\n",
      "higher limit: 0.8\n",
      "typical value: 0.65\n",
      "unit mgSSV/mgDBO5\n",
      "0.65\n",
      "0.65 mgSSV/mgDBO5\n"
     ]
    }
   ],
   "source": [
    "y = yvars()"
   ]
  },
  {
   "cell_type": "code",
   "execution_count": 13,
   "metadata": {},
   "outputs": [
    {
     "name": "stdout",
     "output_type": "stream",
     "text": [
      "Enter please your ks (constante de sustrato\n",
      "lower limit: 25\n",
      "higher limit: 60\n",
      "typical value: 60\n",
      "unit mgDBO5/L\n",
      "60\n",
      "60.0 mgDBO5/L \n"
     ]
    }
   ],
   "source": [
    "ks = ksvars()"
   ]
  },
  {
   "cell_type": "code",
   "execution_count": 12,
   "metadata": {},
   "outputs": [
    {
     "name": "stdout",
     "output_type": "stream",
     "text": [
      "Enter please your umax (tasa de crecimiento específico máximo)\n",
      "lower limit: not available\n",
      "higher limit: not available\n",
      "typical value: 0.5\n",
      "unit 1/d\n",
      "0.5\n",
      "0.5 1/d\n"
     ]
    }
   ],
   "source": [
    "umax = umaxvars()"
   ]
  },
  {
   "cell_type": "code",
   "execution_count": 14,
   "metadata": {},
   "outputs": [
    {
     "name": "stdout",
     "output_type": "stream",
     "text": [
      "Enter please your Y (biomasa en el reactor)\n",
      "lower limit: not available\n",
      "higher limit: not available\n",
      "typical value: 3000\n",
      "unit mgSSV/L\n",
      "3000\n",
      "3000.0 mgSSV/L\n"
     ]
    }
   ],
   "source": [
    "x = xvars()"
   ]
  },
  {
   "cell_type": "markdown",
   "metadata": {},
   "source": [
    "## Calculate volume (finally)"
   ]
  },
  {
   "cell_type": "code",
   "execution_count": 17,
   "metadata": {},
   "outputs": [],
   "source": [
    "def volume():\n",
    "    upper = y * (S0-S) * Q * (ks + S)\n",
    "    lower = umax * S * x\n",
    "    vol = upper/lower\n",
    "    if vol <= 100:\n",
    "        print('you may hav to consider a radial shape for your reactor, since your volume is smaller than 100 cubic meters')\n",
    "    \n",
    "    return vol"
   ]
  },
  {
   "cell_type": "code",
   "execution_count": 18,
   "metadata": {},
   "outputs": [
    {
     "data": {
      "text/plain": [
       "2527.2"
      ]
     },
     "execution_count": 18,
     "metadata": {},
     "output_type": "execute_result"
    }
   ],
   "source": [
    "volume = volume()\n",
    "volume"
   ]
  },
  {
   "cell_type": "markdown",
   "metadata": {},
   "source": [
    "---------------"
   ]
  },
  {
   "cell_type": "markdown",
   "metadata": {},
   "source": [
    "# graphs "
   ]
  },
  {
   "cell_type": "code",
   "execution_count": 57,
   "metadata": {},
   "outputs": [],
   "source": [
    "import numpy as np"
   ]
  },
  {
   "cell_type": "code",
   "execution_count": 261,
   "metadata": {},
   "outputs": [],
   "source": [
    "qrange= np.linspace(Q*0.5,Q*1.5,20) \n",
    "\n",
    "DBO0= np.linspace(S0*0.5,S0*1.5,20) \n",
    "DBOf= np.linspace(S*0.5,S*1.5,20)\n",
    "df= pd"
   ]
  },
  {
   "cell_type": "code",
   "execution_count": 262,
   "metadata": {},
   "outputs": [],
   "source": [
    "li= [qrange,DBO0,DBOf]\n",
    "df= pd.DataFrame( data = li)\n",
    "df = df.transpose()\n",
    "df.columns = ['Q','DBO0','DBOf']"
   ]
  },
  {
   "cell_type": "code",
   "execution_count": 263,
   "metadata": {
    "scrolled": true
   },
   "outputs": [
    {
     "data": {
      "text/html": [
       "<div>\n",
       "<style scoped>\n",
       "    .dataframe tbody tr th:only-of-type {\n",
       "        vertical-align: middle;\n",
       "    }\n",
       "\n",
       "    .dataframe tbody tr th {\n",
       "        vertical-align: top;\n",
       "    }\n",
       "\n",
       "    .dataframe thead th {\n",
       "        text-align: right;\n",
       "    }\n",
       "</style>\n",
       "<table border=\"1\" class=\"dataframe\">\n",
       "  <thead>\n",
       "    <tr style=\"text-align: right;\">\n",
       "      <th></th>\n",
       "      <th>Q</th>\n",
       "      <th>DBO0</th>\n",
       "      <th>DBOf</th>\n",
       "    </tr>\n",
       "  </thead>\n",
       "  <tbody>\n",
       "    <tr>\n",
       "      <th>0</th>\n",
       "      <td>3600.000000</td>\n",
       "      <td>150.000000</td>\n",
       "      <td>15.000000</td>\n",
       "    </tr>\n",
       "    <tr>\n",
       "      <th>1</th>\n",
       "      <td>3978.947368</td>\n",
       "      <td>165.789474</td>\n",
       "      <td>16.578947</td>\n",
       "    </tr>\n",
       "    <tr>\n",
       "      <th>2</th>\n",
       "      <td>4357.894737</td>\n",
       "      <td>181.578947</td>\n",
       "      <td>18.157895</td>\n",
       "    </tr>\n",
       "    <tr>\n",
       "      <th>3</th>\n",
       "      <td>4736.842105</td>\n",
       "      <td>197.368421</td>\n",
       "      <td>19.736842</td>\n",
       "    </tr>\n",
       "    <tr>\n",
       "      <th>4</th>\n",
       "      <td>5115.789474</td>\n",
       "      <td>213.157895</td>\n",
       "      <td>21.315789</td>\n",
       "    </tr>\n",
       "  </tbody>\n",
       "</table>\n",
       "</div>"
      ],
      "text/plain": [
       "             Q        DBO0       DBOf\n",
       "0  3600.000000  150.000000  15.000000\n",
       "1  3978.947368  165.789474  16.578947\n",
       "2  4357.894737  181.578947  18.157895\n",
       "3  4736.842105  197.368421  19.736842\n",
       "4  5115.789474  213.157895  21.315789"
      ]
     },
     "execution_count": 263,
     "metadata": {},
     "output_type": "execute_result"
    }
   ],
   "source": [
    "df.head()"
   ]
  },
  {
   "cell_type": "code",
   "execution_count": 264,
   "metadata": {},
   "outputs": [],
   "source": [
    "def volume(y):\n",
    "    y=y\n",
    "    upper = y * (df['DBO0']-df['DBOf']) * df['Q'] * (ks + df['DBOf'])\n",
    "    lower = umax * df['DBOf'] * x\n",
    "    vol = upper/lower\n",
    "\n",
    "    return vol"
   ]
  },
  {
   "cell_type": "code",
   "execution_count": 265,
   "metadata": {},
   "outputs": [],
   "source": [
    "df['VOL'] = volume(y)"
   ]
  },
  {
   "cell_type": "code",
   "execution_count": 266,
   "metadata": {},
   "outputs": [
    {
     "data": {
      "text/plain": [
       "array([0.4       , 0.44444444, 0.48888889, 0.53333333, 0.57777778,\n",
       "       0.62222222, 0.66666667, 0.71111111, 0.75555556, 0.8       ])"
      ]
     },
     "execution_count": 266,
     "metadata": {},
     "output_type": "execute_result"
    }
   ],
   "source": [
    "yrange = np.linspace(0.4,0.8,10)\n",
    "yrange"
   ]
  },
  {
   "cell_type": "code",
   "execution_count": 267,
   "metadata": {
    "scrolled": true
   },
   "outputs": [
    {
     "name": "stdout",
     "output_type": "stream",
     "text": [
      "0.4\n",
      "0.4444444444444445\n",
      "0.48888888888888893\n",
      "0.5333333333333333\n",
      "0.5777777777777778\n",
      "0.6222222222222222\n",
      "0.6666666666666667\n",
      "0.7111111111111111\n",
      "0.7555555555555555\n",
      "0.8\n"
     ]
    }
   ],
   "source": [
    "for i in range(len(yrange)):\n",
    "    print(yrange[i])"
   ]
  },
  {
   "cell_type": "code",
   "execution_count": 268,
   "metadata": {},
   "outputs": [
    {
     "data": {
      "text/plain": [
       "10"
      ]
     },
     "execution_count": 268,
     "metadata": {},
     "output_type": "execute_result"
    }
   ],
   "source": [
    "len(yrange)"
   ]
  },
  {
   "cell_type": "code",
   "execution_count": 269,
   "metadata": {},
   "outputs": [],
   "source": [
    "for i in range(len(yrange)):\n",
    "    df['vol' + str(i)] = volume(yrange[i])"
   ]
  },
  {
   "cell_type": "code",
   "execution_count": 270,
   "metadata": {
    "scrolled": true
   },
   "outputs": [
    {
     "data": {
      "text/html": [
       "<div>\n",
       "<style scoped>\n",
       "    .dataframe tbody tr th:only-of-type {\n",
       "        vertical-align: middle;\n",
       "    }\n",
       "\n",
       "    .dataframe tbody tr th {\n",
       "        vertical-align: top;\n",
       "    }\n",
       "\n",
       "    .dataframe thead th {\n",
       "        text-align: right;\n",
       "    }\n",
       "</style>\n",
       "<table border=\"1\" class=\"dataframe\">\n",
       "  <thead>\n",
       "    <tr style=\"text-align: right;\">\n",
       "      <th></th>\n",
       "      <th>Q</th>\n",
       "      <th>DBO0</th>\n",
       "      <th>DBOf</th>\n",
       "      <th>VOL</th>\n",
       "      <th>vol0</th>\n",
       "      <th>vol1</th>\n",
       "      <th>vol2</th>\n",
       "      <th>vol3</th>\n",
       "      <th>vol4</th>\n",
       "      <th>vol5</th>\n",
       "      <th>vol6</th>\n",
       "      <th>vol7</th>\n",
       "      <th>vol8</th>\n",
       "      <th>vol9</th>\n",
       "    </tr>\n",
       "  </thead>\n",
       "  <tbody>\n",
       "    <tr>\n",
       "      <th>0</th>\n",
       "      <td>3600.000000</td>\n",
       "      <td>150.000000</td>\n",
       "      <td>15.000000</td>\n",
       "      <td>202500</td>\n",
       "      <td>540</td>\n",
       "      <td>600</td>\n",
       "      <td>660</td>\n",
       "      <td>720</td>\n",
       "      <td>780</td>\n",
       "      <td>840</td>\n",
       "      <td>900</td>\n",
       "      <td>960</td>\n",
       "      <td>1020</td>\n",
       "      <td>1080</td>\n",
       "    </tr>\n",
       "    <tr>\n",
       "      <th>1</th>\n",
       "      <td>3978.947368</td>\n",
       "      <td>165.789474</td>\n",
       "      <td>16.578947</td>\n",
       "      <td>228528</td>\n",
       "      <td>551.368</td>\n",
       "      <td>612.632</td>\n",
       "      <td>673.895</td>\n",
       "      <td>735.158</td>\n",
       "      <td>796.421</td>\n",
       "      <td>857.684</td>\n",
       "      <td>918.947</td>\n",
       "      <td>980.211</td>\n",
       "      <td>1041.47</td>\n",
       "      <td>1102.74</td>\n",
       "    </tr>\n",
       "    <tr>\n",
       "      <th>2</th>\n",
       "      <td>4357.894737</td>\n",
       "      <td>181.578947</td>\n",
       "      <td>18.157895</td>\n",
       "      <td>255453</td>\n",
       "      <td>562.737</td>\n",
       "      <td>625.263</td>\n",
       "      <td>687.789</td>\n",
       "      <td>750.316</td>\n",
       "      <td>812.842</td>\n",
       "      <td>875.368</td>\n",
       "      <td>937.895</td>\n",
       "      <td>1000.42</td>\n",
       "      <td>1062.95</td>\n",
       "      <td>1125.47</td>\n",
       "    </tr>\n",
       "    <tr>\n",
       "      <th>3</th>\n",
       "      <td>4736.842105</td>\n",
       "      <td>197.368421</td>\n",
       "      <td>19.736842</td>\n",
       "      <td>283276</td>\n",
       "      <td>574.105</td>\n",
       "      <td>637.895</td>\n",
       "      <td>701.684</td>\n",
       "      <td>765.474</td>\n",
       "      <td>829.263</td>\n",
       "      <td>893.053</td>\n",
       "      <td>956.842</td>\n",
       "      <td>1020.63</td>\n",
       "      <td>1084.42</td>\n",
       "      <td>1148.21</td>\n",
       "    </tr>\n",
       "    <tr>\n",
       "      <th>4</th>\n",
       "      <td>5115.789474</td>\n",
       "      <td>213.157895</td>\n",
       "      <td>21.315789</td>\n",
       "      <td>311996</td>\n",
       "      <td>585.474</td>\n",
       "      <td>650.526</td>\n",
       "      <td>715.579</td>\n",
       "      <td>780.632</td>\n",
       "      <td>845.684</td>\n",
       "      <td>910.737</td>\n",
       "      <td>975.789</td>\n",
       "      <td>1040.84</td>\n",
       "      <td>1105.89</td>\n",
       "      <td>1170.95</td>\n",
       "    </tr>\n",
       "  </tbody>\n",
       "</table>\n",
       "</div>"
      ],
      "text/plain": [
       "             Q        DBO0       DBOf     VOL     vol0     vol1     vol2  \\\n",
       "0  3600.000000  150.000000  15.000000  202500      540      600      660   \n",
       "1  3978.947368  165.789474  16.578947  228528  551.368  612.632  673.895   \n",
       "2  4357.894737  181.578947  18.157895  255453  562.737  625.263  687.789   \n",
       "3  4736.842105  197.368421  19.736842  283276  574.105  637.895  701.684   \n",
       "4  5115.789474  213.157895  21.315789  311996  585.474  650.526  715.579   \n",
       "\n",
       "      vol3     vol4     vol5     vol6     vol7     vol8     vol9  \n",
       "0      720      780      840      900      960     1020     1080  \n",
       "1  735.158  796.421  857.684  918.947  980.211  1041.47  1102.74  \n",
       "2  750.316  812.842  875.368  937.895  1000.42  1062.95  1125.47  \n",
       "3  765.474  829.263  893.053  956.842  1020.63  1084.42  1148.21  \n",
       "4  780.632  845.684  910.737  975.789  1040.84  1105.89  1170.95  "
      ]
     },
     "execution_count": 270,
     "metadata": {},
     "output_type": "execute_result"
    }
   ],
   "source": [
    "df.head()"
   ]
  },
  {
   "cell_type": "code",
   "execution_count": 271,
   "metadata": {},
   "outputs": [
    {
     "data": {
      "text/plain": [
       "(20, 14)"
      ]
     },
     "execution_count": 271,
     "metadata": {},
     "output_type": "execute_result"
    }
   ],
   "source": [
    "df.shape"
   ]
  },
  {
   "cell_type": "code",
   "execution_count": 272,
   "metadata": {},
   "outputs": [],
   "source": [
    "import plotly.express as px"
   ]
  },
  {
   "cell_type": "code",
   "execution_count": 384,
   "metadata": {},
   "outputs": [
    {
     "data": {
      "application/vnd.plotly.v1+json": {
       "config": {
        "plotlyServerURL": "https://plot.ly"
       },
       "data": [
        {
         "mode": "lines+markers",
         "name": "lines+markers",
         "type": "scatter3d",
         "x": [
          3600,
          3978.9473684210525,
          4357.894736842105,
          4736.842105263158,
          5115.789473684211,
          5494.736842105263,
          5873.684210526316,
          6252.631578947368,
          6631.578947368422,
          7010.526315789473,
          7389.473684210527,
          7768.421052631579,
          8147.368421052632,
          8526.315789473683,
          8905.263157894737,
          9284.21052631579,
          9663.157894736843,
          10042.105263157895,
          10421.052631578947,
          10800
         ],
         "y": [
          150,
          165.78947368421052,
          181.57894736842104,
          197.36842105263156,
          213.1578947368421,
          228.94736842105263,
          244.73684210526315,
          260.5263157894737,
          276.3157894736842,
          292.10526315789474,
          307.89473684210526,
          323.6842105263158,
          339.4736842105263,
          355.2631578947368,
          371.0526315789474,
          386.8421052631579,
          402.63157894736844,
          418.42105263157896,
          434.2105263157895,
          450
         ],
         "z": [
          540,
          551.3684210526317,
          562.7368421052631,
          574.1052631578947,
          585.4736842105264,
          596.842105263158,
          608.2105263157895,
          619.578947368421,
          630.9473684210527,
          642.3157894736843,
          653.6842105263157,
          665.0526315789475,
          676.421052631579,
          687.7894736842105,
          699.1578947368422,
          710.5263157894738,
          721.8947368421054,
          733.2631578947368,
          744.6315789473686,
          756
         ]
        },
        {
         "mode": "lines+markers",
         "name": "lines+markers",
         "type": "scatter3d",
         "x": [
          3600,
          3978.9473684210525,
          4357.894736842105,
          4736.842105263158,
          5115.789473684211,
          5494.736842105263,
          5873.684210526316,
          6252.631578947368,
          6631.578947368422,
          7010.526315789473,
          7389.473684210527,
          7768.421052631579,
          8147.368421052632,
          8526.315789473683,
          8905.263157894737,
          9284.21052631579,
          9663.157894736843,
          10042.105263157895,
          10421.052631578947,
          10800
         ],
         "y": [
          150,
          165.78947368421052,
          181.57894736842104,
          197.36842105263156,
          213.1578947368421,
          228.94736842105263,
          244.73684210526315,
          260.5263157894737,
          276.3157894736842,
          292.10526315789474,
          307.89473684210526,
          323.6842105263158,
          339.4736842105263,
          355.2631578947368,
          371.0526315789474,
          386.8421052631579,
          402.63157894736844,
          418.42105263157896,
          434.2105263157895,
          450
         ],
         "z": [
          600.0000000000001,
          612.6315789473686,
          625.2631578947369,
          637.8947368421052,
          650.5263157894738,
          663.1578947368421,
          675.7894736842105,
          688.4210526315791,
          701.0526315789475,
          713.684210526316,
          726.3157894736842,
          738.9473684210527,
          751.578947368421,
          764.2105263157895,
          776.8421052631579,
          789.4736842105265,
          802.1052631578949,
          814.7368421052632,
          827.3684210526316,
          840
         ]
        },
        {
         "mode": "lines+markers",
         "name": "lines+markers",
         "type": "scatter3d",
         "x": [
          3600,
          3978.9473684210525,
          4357.894736842105,
          4736.842105263158,
          5115.789473684211,
          5494.736842105263,
          5873.684210526316,
          6252.631578947368,
          6631.578947368422,
          7010.526315789473,
          7389.473684210527,
          7768.421052631579,
          8147.368421052632,
          8526.315789473683,
          8905.263157894737,
          9284.21052631579,
          9663.157894736843,
          10042.105263157895,
          10421.052631578947,
          10800
         ],
         "y": [
          150,
          165.78947368421052,
          181.57894736842104,
          197.36842105263156,
          213.1578947368421,
          228.94736842105263,
          244.73684210526315,
          260.5263157894737,
          276.3157894736842,
          292.10526315789474,
          307.89473684210526,
          323.6842105263158,
          339.4736842105263,
          355.2631578947368,
          371.0526315789474,
          386.8421052631579,
          402.63157894736844,
          418.42105263157896,
          434.2105263157895,
          450
         ],
         "z": [
          660,
          673.8947368421054,
          687.7894736842105,
          701.6842105263157,
          715.578947368421,
          729.4736842105265,
          743.3684210526317,
          757.2631578947369,
          771.1578947368423,
          785.0526315789475,
          798.9473684210527,
          812.842105263158,
          826.736842105263,
          840.6315789473686,
          854.5263157894738,
          868.4210526315791,
          882.3157894736844,
          896.2105263157895,
          910.1052631578947,
          924.0000000000002
         ]
        },
        {
         "mode": "lines+markers",
         "name": "lines+markers",
         "type": "scatter3d",
         "x": [
          3600,
          3978.9473684210525,
          4357.894736842105,
          4736.842105263158,
          5115.789473684211,
          5494.736842105263,
          5873.684210526316,
          6252.631578947368,
          6631.578947368422,
          7010.526315789473,
          7389.473684210527,
          7768.421052631579,
          8147.368421052632,
          8526.315789473683,
          8905.263157894737,
          9284.21052631579,
          9663.157894736843,
          10042.105263157895,
          10421.052631578947,
          10800
         ],
         "y": [
          150,
          165.78947368421052,
          181.57894736842104,
          197.36842105263156,
          213.1578947368421,
          228.94736842105263,
          244.73684210526315,
          260.5263157894737,
          276.3157894736842,
          292.10526315789474,
          307.89473684210526,
          323.6842105263158,
          339.4736842105263,
          355.2631578947368,
          371.0526315789474,
          386.8421052631579,
          402.63157894736844,
          418.42105263157896,
          434.2105263157895,
          450
         ],
         "z": [
          720,
          735.1578947368422,
          750.3157894736842,
          765.4736842105261,
          780.6315789473684,
          795.7894736842104,
          810.9473684210525,
          826.1052631578948,
          841.2631578947371,
          856.4210526315791,
          871.5789473684209,
          886.7368421052632,
          901.8947368421051,
          917.0526315789473,
          932.2105263157896,
          947.3684210526317,
          962.5263157894738,
          977.6842105263158,
          992.8421052631578,
          1008
         ]
        },
        {
         "mode": "lines+markers",
         "name": "lines+markers",
         "type": "scatter3d",
         "x": [
          3600,
          3978.9473684210525,
          4357.894736842105,
          4736.842105263158,
          5115.789473684211,
          5494.736842105263,
          5873.684210526316,
          6252.631578947368,
          6631.578947368422,
          7010.526315789473,
          7389.473684210527,
          7768.421052631579,
          8147.368421052632,
          8526.315789473683,
          8905.263157894737,
          9284.21052631579,
          9663.157894736843,
          10042.105263157895,
          10421.052631578947,
          10800
         ],
         "y": [
          150,
          165.78947368421052,
          181.57894736842104,
          197.36842105263156,
          213.1578947368421,
          228.94736842105263,
          244.73684210526315,
          260.5263157894737,
          276.3157894736842,
          292.10526315789474,
          307.89473684210526,
          323.6842105263158,
          339.4736842105263,
          355.2631578947368,
          371.0526315789474,
          386.8421052631579,
          402.63157894736844,
          418.42105263157896,
          434.2105263157895,
          450
         ],
         "z": [
          780.0000000000001,
          796.4210526315791,
          812.8421052631578,
          829.2631578947368,
          845.684210526316,
          862.1052631578948,
          878.5263157894738,
          894.9473684210526,
          911.3684210526317,
          927.7894736842107,
          944.2105263157896,
          960.6315789473686,
          977.0526315789472,
          993.4736842105262,
          1009.8947368421053,
          1026.3157894736844,
          1042.7368421052633,
          1059.1578947368423,
          1075.578947368421,
          1092.0000000000002
         ]
        },
        {
         "mode": "lines+markers",
         "name": "lines+markers",
         "type": "scatter3d",
         "x": [
          3600,
          3978.9473684210525,
          4357.894736842105,
          4736.842105263158,
          5115.789473684211,
          5494.736842105263,
          5873.684210526316,
          6252.631578947368,
          6631.578947368422,
          7010.526315789473,
          7389.473684210527,
          7768.421052631579,
          8147.368421052632,
          8526.315789473683,
          8905.263157894737,
          9284.21052631579,
          9663.157894736843,
          10042.105263157895,
          10421.052631578947,
          10800
         ],
         "y": [
          150,
          165.78947368421052,
          181.57894736842104,
          197.36842105263156,
          213.1578947368421,
          228.94736842105263,
          244.73684210526315,
          260.5263157894737,
          276.3157894736842,
          292.10526315789474,
          307.89473684210526,
          323.6842105263158,
          339.4736842105263,
          355.2631578947368,
          371.0526315789474,
          386.8421052631579,
          402.63157894736844,
          418.42105263157896,
          434.2105263157895,
          450
         ],
         "z": [
          840,
          857.684210526316,
          875.3684210526314,
          893.0526315789472,
          910.7368421052631,
          928.421052631579,
          946.1052631578948,
          963.7894736842105,
          981.4736842105265,
          999.1578947368422,
          1016.8421052631578,
          1034.5263157894738,
          1052.2105263157894,
          1069.8947368421052,
          1087.578947368421,
          1105.263157894737,
          1122.9473684210527,
          1140.6315789473686,
          1158.3157894736844,
          1176
         ]
        },
        {
         "mode": "lines+markers",
         "name": "lines+markers",
         "type": "scatter3d",
         "x": [
          3600,
          3978.9473684210525,
          4357.894736842105,
          4736.842105263158,
          5115.789473684211,
          5494.736842105263,
          5873.684210526316,
          6252.631578947368,
          6631.578947368422,
          7010.526315789473,
          7389.473684210527,
          7768.421052631579,
          8147.368421052632,
          8526.315789473683,
          8905.263157894737,
          9284.21052631579,
          9663.157894736843,
          10042.105263157895,
          10421.052631578947,
          10800
         ],
         "y": [
          150,
          165.78947368421052,
          181.57894736842104,
          197.36842105263156,
          213.1578947368421,
          228.94736842105263,
          244.73684210526315,
          260.5263157894737,
          276.3157894736842,
          292.10526315789474,
          307.89473684210526,
          323.6842105263158,
          339.4736842105263,
          355.2631578947368,
          371.0526315789474,
          386.8421052631579,
          402.63157894736844,
          418.42105263157896,
          434.2105263157895,
          450
         ],
         "z": [
          900.0000000000001,
          918.9473684210528,
          937.8947368421053,
          956.8421052631579,
          975.7894736842104,
          994.7368421052632,
          1013.6842105263157,
          1032.6315789473686,
          1051.5789473684213,
          1070.526315789474,
          1089.4736842105265,
          1108.4210526315792,
          1127.3684210526314,
          1146.3157894736842,
          1165.2631578947369,
          1184.2105263157896,
          1203.1578947368423,
          1222.1052631578948,
          1241.0526315789475,
          1260.0000000000002
         ]
        },
        {
         "mode": "lines+markers",
         "name": "lines+markers",
         "type": "scatter3d",
         "x": [
          3600,
          3978.9473684210525,
          4357.894736842105,
          4736.842105263158,
          5115.789473684211,
          5494.736842105263,
          5873.684210526316,
          6252.631578947368,
          6631.578947368422,
          7010.526315789473,
          7389.473684210527,
          7768.421052631579,
          8147.368421052632,
          8526.315789473683,
          8905.263157894737,
          9284.21052631579,
          9663.157894736843,
          10042.105263157895,
          10421.052631578947,
          10800
         ],
         "y": [
          150,
          165.78947368421052,
          181.57894736842104,
          197.36842105263156,
          213.1578947368421,
          228.94736842105263,
          244.73684210526315,
          260.5263157894737,
          276.3157894736842,
          292.10526315789474,
          307.89473684210526,
          323.6842105263158,
          339.4736842105263,
          355.2631578947368,
          371.0526315789474,
          386.8421052631579,
          402.63157894736844,
          418.42105263157896,
          434.2105263157895,
          450
         ],
         "z": [
          960,
          980.2105263157896,
          1000.4210526315788,
          1020.6315789473681,
          1040.842105263158,
          1061.0526315789475,
          1081.2631578947367,
          1101.4736842105265,
          1121.684210526316,
          1141.8947368421054,
          1162.1052631578948,
          1182.3157894736842,
          1202.5263157894738,
          1222.736842105263,
          1242.947368421053,
          1263.1578947368423,
          1283.368421052632,
          1303.5789473684213,
          1323.7894736842106,
          1344
         ]
        },
        {
         "mode": "lines+markers",
         "name": "lines+markers",
         "type": "scatter3d",
         "x": [
          3600,
          3978.9473684210525,
          4357.894736842105,
          4736.842105263158,
          5115.789473684211,
          5494.736842105263,
          5873.684210526316,
          6252.631578947368,
          6631.578947368422,
          7010.526315789473,
          7389.473684210527,
          7768.421052631579,
          8147.368421052632,
          8526.315789473683,
          8905.263157894737,
          9284.21052631579,
          9663.157894736843,
          10042.105263157895,
          10421.052631578947,
          10800
         ],
         "y": [
          150,
          165.78947368421052,
          181.57894736842104,
          197.36842105263156,
          213.1578947368421,
          228.94736842105263,
          244.73684210526315,
          260.5263157894737,
          276.3157894736842,
          292.10526315789474,
          307.89473684210526,
          323.6842105263158,
          339.4736842105263,
          355.2631578947368,
          371.0526315789474,
          386.8421052631579,
          402.63157894736844,
          418.42105263157896,
          434.2105263157895,
          450
         ],
         "z": [
          1020,
          1041.4736842105265,
          1062.9473684210527,
          1084.4210526315787,
          1105.8947368421052,
          1127.3684210526314,
          1148.8421052631577,
          1170.3157894736842,
          1191.7894736842104,
          1213.2631578947369,
          1234.7368421052631,
          1256.2105263157896,
          1277.6842105263156,
          1299.1578947368419,
          1320.6315789473683,
          1342.105263157895,
          1363.5789473684213,
          1385.052631578947,
          1406.5263157894735,
          1428
         ]
        },
        {
         "mode": "lines+markers",
         "name": "lines+markers",
         "type": "scatter3d",
         "x": [
          3600,
          3978.9473684210525,
          4357.894736842105,
          4736.842105263158,
          5115.789473684211,
          5494.736842105263,
          5873.684210526316,
          6252.631578947368,
          6631.578947368422,
          7010.526315789473,
          7389.473684210527,
          7768.421052631579,
          8147.368421052632,
          8526.315789473683,
          8905.263157894737,
          9284.21052631579,
          9663.157894736843,
          10042.105263157895,
          10421.052631578947,
          10800
         ],
         "y": [
          150,
          165.78947368421052,
          181.57894736842104,
          197.36842105263156,
          213.1578947368421,
          228.94736842105263,
          244.73684210526315,
          260.5263157894737,
          276.3157894736842,
          292.10526315789474,
          307.89473684210526,
          323.6842105263158,
          339.4736842105263,
          355.2631578947368,
          371.0526315789474,
          386.8421052631579,
          402.63157894736844,
          418.42105263157896,
          434.2105263157895,
          450
         ],
         "z": [
          1080,
          1102.7368421052633,
          1125.4736842105262,
          1148.2105263157894,
          1170.9473684210527,
          1193.684210526316,
          1216.421052631579,
          1239.157894736842,
          1261.8947368421054,
          1284.6315789473686,
          1307.3684210526314,
          1330.105263157895,
          1352.842105263158,
          1375.578947368421,
          1398.3157894736844,
          1421.0526315789475,
          1443.7894736842109,
          1466.5263157894735,
          1489.263157894737,
          1512
         ]
        }
       ],
       "layout": {
        "height": 700,
        "scene": {
         "camera": {
          "center": {
           "x": 0,
           "y": 0,
           "z": 0
          },
          "eye": {
           "x": 2.25,
           "y": 1.25,
           "z": 0.5
          },
          "up": {
           "x": 0,
           "y": 0,
           "z": 1
          }
         }
        },
        "template": {
         "data": {
          "bar": [
           {
            "error_x": {
             "color": "#2a3f5f"
            },
            "error_y": {
             "color": "#2a3f5f"
            },
            "marker": {
             "line": {
              "color": "#E5ECF6",
              "width": 0.5
             }
            },
            "type": "bar"
           }
          ],
          "barpolar": [
           {
            "marker": {
             "line": {
              "color": "#E5ECF6",
              "width": 0.5
             }
            },
            "type": "barpolar"
           }
          ],
          "carpet": [
           {
            "aaxis": {
             "endlinecolor": "#2a3f5f",
             "gridcolor": "white",
             "linecolor": "white",
             "minorgridcolor": "white",
             "startlinecolor": "#2a3f5f"
            },
            "baxis": {
             "endlinecolor": "#2a3f5f",
             "gridcolor": "white",
             "linecolor": "white",
             "minorgridcolor": "white",
             "startlinecolor": "#2a3f5f"
            },
            "type": "carpet"
           }
          ],
          "choropleth": [
           {
            "colorbar": {
             "outlinewidth": 0,
             "ticks": ""
            },
            "type": "choropleth"
           }
          ],
          "contour": [
           {
            "colorbar": {
             "outlinewidth": 0,
             "ticks": ""
            },
            "colorscale": [
             [
              0,
              "#0d0887"
             ],
             [
              0.1111111111111111,
              "#46039f"
             ],
             [
              0.2222222222222222,
              "#7201a8"
             ],
             [
              0.3333333333333333,
              "#9c179e"
             ],
             [
              0.4444444444444444,
              "#bd3786"
             ],
             [
              0.5555555555555556,
              "#d8576b"
             ],
             [
              0.6666666666666666,
              "#ed7953"
             ],
             [
              0.7777777777777778,
              "#fb9f3a"
             ],
             [
              0.8888888888888888,
              "#fdca26"
             ],
             [
              1,
              "#f0f921"
             ]
            ],
            "type": "contour"
           }
          ],
          "contourcarpet": [
           {
            "colorbar": {
             "outlinewidth": 0,
             "ticks": ""
            },
            "type": "contourcarpet"
           }
          ],
          "heatmap": [
           {
            "colorbar": {
             "outlinewidth": 0,
             "ticks": ""
            },
            "colorscale": [
             [
              0,
              "#0d0887"
             ],
             [
              0.1111111111111111,
              "#46039f"
             ],
             [
              0.2222222222222222,
              "#7201a8"
             ],
             [
              0.3333333333333333,
              "#9c179e"
             ],
             [
              0.4444444444444444,
              "#bd3786"
             ],
             [
              0.5555555555555556,
              "#d8576b"
             ],
             [
              0.6666666666666666,
              "#ed7953"
             ],
             [
              0.7777777777777778,
              "#fb9f3a"
             ],
             [
              0.8888888888888888,
              "#fdca26"
             ],
             [
              1,
              "#f0f921"
             ]
            ],
            "type": "heatmap"
           }
          ],
          "heatmapgl": [
           {
            "colorbar": {
             "outlinewidth": 0,
             "ticks": ""
            },
            "colorscale": [
             [
              0,
              "#0d0887"
             ],
             [
              0.1111111111111111,
              "#46039f"
             ],
             [
              0.2222222222222222,
              "#7201a8"
             ],
             [
              0.3333333333333333,
              "#9c179e"
             ],
             [
              0.4444444444444444,
              "#bd3786"
             ],
             [
              0.5555555555555556,
              "#d8576b"
             ],
             [
              0.6666666666666666,
              "#ed7953"
             ],
             [
              0.7777777777777778,
              "#fb9f3a"
             ],
             [
              0.8888888888888888,
              "#fdca26"
             ],
             [
              1,
              "#f0f921"
             ]
            ],
            "type": "heatmapgl"
           }
          ],
          "histogram": [
           {
            "marker": {
             "colorbar": {
              "outlinewidth": 0,
              "ticks": ""
             }
            },
            "type": "histogram"
           }
          ],
          "histogram2d": [
           {
            "colorbar": {
             "outlinewidth": 0,
             "ticks": ""
            },
            "colorscale": [
             [
              0,
              "#0d0887"
             ],
             [
              0.1111111111111111,
              "#46039f"
             ],
             [
              0.2222222222222222,
              "#7201a8"
             ],
             [
              0.3333333333333333,
              "#9c179e"
             ],
             [
              0.4444444444444444,
              "#bd3786"
             ],
             [
              0.5555555555555556,
              "#d8576b"
             ],
             [
              0.6666666666666666,
              "#ed7953"
             ],
             [
              0.7777777777777778,
              "#fb9f3a"
             ],
             [
              0.8888888888888888,
              "#fdca26"
             ],
             [
              1,
              "#f0f921"
             ]
            ],
            "type": "histogram2d"
           }
          ],
          "histogram2dcontour": [
           {
            "colorbar": {
             "outlinewidth": 0,
             "ticks": ""
            },
            "colorscale": [
             [
              0,
              "#0d0887"
             ],
             [
              0.1111111111111111,
              "#46039f"
             ],
             [
              0.2222222222222222,
              "#7201a8"
             ],
             [
              0.3333333333333333,
              "#9c179e"
             ],
             [
              0.4444444444444444,
              "#bd3786"
             ],
             [
              0.5555555555555556,
              "#d8576b"
             ],
             [
              0.6666666666666666,
              "#ed7953"
             ],
             [
              0.7777777777777778,
              "#fb9f3a"
             ],
             [
              0.8888888888888888,
              "#fdca26"
             ],
             [
              1,
              "#f0f921"
             ]
            ],
            "type": "histogram2dcontour"
           }
          ],
          "mesh3d": [
           {
            "colorbar": {
             "outlinewidth": 0,
             "ticks": ""
            },
            "type": "mesh3d"
           }
          ],
          "parcoords": [
           {
            "line": {
             "colorbar": {
              "outlinewidth": 0,
              "ticks": ""
             }
            },
            "type": "parcoords"
           }
          ],
          "pie": [
           {
            "automargin": true,
            "type": "pie"
           }
          ],
          "scatter": [
           {
            "marker": {
             "colorbar": {
              "outlinewidth": 0,
              "ticks": ""
             }
            },
            "type": "scatter"
           }
          ],
          "scatter3d": [
           {
            "line": {
             "colorbar": {
              "outlinewidth": 0,
              "ticks": ""
             }
            },
            "marker": {
             "colorbar": {
              "outlinewidth": 0,
              "ticks": ""
             }
            },
            "type": "scatter3d"
           }
          ],
          "scattercarpet": [
           {
            "marker": {
             "colorbar": {
              "outlinewidth": 0,
              "ticks": ""
             }
            },
            "type": "scattercarpet"
           }
          ],
          "scattergeo": [
           {
            "marker": {
             "colorbar": {
              "outlinewidth": 0,
              "ticks": ""
             }
            },
            "type": "scattergeo"
           }
          ],
          "scattergl": [
           {
            "marker": {
             "colorbar": {
              "outlinewidth": 0,
              "ticks": ""
             }
            },
            "type": "scattergl"
           }
          ],
          "scattermapbox": [
           {
            "marker": {
             "colorbar": {
              "outlinewidth": 0,
              "ticks": ""
             }
            },
            "type": "scattermapbox"
           }
          ],
          "scatterpolar": [
           {
            "marker": {
             "colorbar": {
              "outlinewidth": 0,
              "ticks": ""
             }
            },
            "type": "scatterpolar"
           }
          ],
          "scatterpolargl": [
           {
            "marker": {
             "colorbar": {
              "outlinewidth": 0,
              "ticks": ""
             }
            },
            "type": "scatterpolargl"
           }
          ],
          "scatterternary": [
           {
            "marker": {
             "colorbar": {
              "outlinewidth": 0,
              "ticks": ""
             }
            },
            "type": "scatterternary"
           }
          ],
          "surface": [
           {
            "colorbar": {
             "outlinewidth": 0,
             "ticks": ""
            },
            "colorscale": [
             [
              0,
              "#0d0887"
             ],
             [
              0.1111111111111111,
              "#46039f"
             ],
             [
              0.2222222222222222,
              "#7201a8"
             ],
             [
              0.3333333333333333,
              "#9c179e"
             ],
             [
              0.4444444444444444,
              "#bd3786"
             ],
             [
              0.5555555555555556,
              "#d8576b"
             ],
             [
              0.6666666666666666,
              "#ed7953"
             ],
             [
              0.7777777777777778,
              "#fb9f3a"
             ],
             [
              0.8888888888888888,
              "#fdca26"
             ],
             [
              1,
              "#f0f921"
             ]
            ],
            "type": "surface"
           }
          ],
          "table": [
           {
            "cells": {
             "fill": {
              "color": "#EBF0F8"
             },
             "line": {
              "color": "white"
             }
            },
            "header": {
             "fill": {
              "color": "#C8D4E3"
             },
             "line": {
              "color": "white"
             }
            },
            "type": "table"
           }
          ]
         },
         "layout": {
          "annotationdefaults": {
           "arrowcolor": "#2a3f5f",
           "arrowhead": 0,
           "arrowwidth": 1
          },
          "coloraxis": {
           "colorbar": {
            "outlinewidth": 0,
            "ticks": ""
           }
          },
          "colorscale": {
           "diverging": [
            [
             0,
             "#8e0152"
            ],
            [
             0.1,
             "#c51b7d"
            ],
            [
             0.2,
             "#de77ae"
            ],
            [
             0.3,
             "#f1b6da"
            ],
            [
             0.4,
             "#fde0ef"
            ],
            [
             0.5,
             "#f7f7f7"
            ],
            [
             0.6,
             "#e6f5d0"
            ],
            [
             0.7,
             "#b8e186"
            ],
            [
             0.8,
             "#7fbc41"
            ],
            [
             0.9,
             "#4d9221"
            ],
            [
             1,
             "#276419"
            ]
           ],
           "sequential": [
            [
             0,
             "#0d0887"
            ],
            [
             0.1111111111111111,
             "#46039f"
            ],
            [
             0.2222222222222222,
             "#7201a8"
            ],
            [
             0.3333333333333333,
             "#9c179e"
            ],
            [
             0.4444444444444444,
             "#bd3786"
            ],
            [
             0.5555555555555556,
             "#d8576b"
            ],
            [
             0.6666666666666666,
             "#ed7953"
            ],
            [
             0.7777777777777778,
             "#fb9f3a"
            ],
            [
             0.8888888888888888,
             "#fdca26"
            ],
            [
             1,
             "#f0f921"
            ]
           ],
           "sequentialminus": [
            [
             0,
             "#0d0887"
            ],
            [
             0.1111111111111111,
             "#46039f"
            ],
            [
             0.2222222222222222,
             "#7201a8"
            ],
            [
             0.3333333333333333,
             "#9c179e"
            ],
            [
             0.4444444444444444,
             "#bd3786"
            ],
            [
             0.5555555555555556,
             "#d8576b"
            ],
            [
             0.6666666666666666,
             "#ed7953"
            ],
            [
             0.7777777777777778,
             "#fb9f3a"
            ],
            [
             0.8888888888888888,
             "#fdca26"
            ],
            [
             1,
             "#f0f921"
            ]
           ]
          },
          "colorway": [
           "#636efa",
           "#EF553B",
           "#00cc96",
           "#ab63fa",
           "#FFA15A",
           "#19d3f3",
           "#FF6692",
           "#B6E880",
           "#FF97FF",
           "#FECB52"
          ],
          "font": {
           "color": "#2a3f5f"
          },
          "geo": {
           "bgcolor": "white",
           "lakecolor": "white",
           "landcolor": "#E5ECF6",
           "showlakes": true,
           "showland": true,
           "subunitcolor": "white"
          },
          "hoverlabel": {
           "align": "left"
          },
          "hovermode": "closest",
          "mapbox": {
           "style": "light"
          },
          "paper_bgcolor": "white",
          "plot_bgcolor": "#E5ECF6",
          "polar": {
           "angularaxis": {
            "gridcolor": "white",
            "linecolor": "white",
            "ticks": ""
           },
           "bgcolor": "#E5ECF6",
           "radialaxis": {
            "gridcolor": "white",
            "linecolor": "white",
            "ticks": ""
           }
          },
          "scene": {
           "xaxis": {
            "backgroundcolor": "#E5ECF6",
            "gridcolor": "white",
            "gridwidth": 2,
            "linecolor": "white",
            "showbackground": true,
            "ticks": "",
            "zerolinecolor": "white"
           },
           "yaxis": {
            "backgroundcolor": "#E5ECF6",
            "gridcolor": "white",
            "gridwidth": 2,
            "linecolor": "white",
            "showbackground": true,
            "ticks": "",
            "zerolinecolor": "white"
           },
           "zaxis": {
            "backgroundcolor": "#E5ECF6",
            "gridcolor": "white",
            "gridwidth": 2,
            "linecolor": "white",
            "showbackground": true,
            "ticks": "",
            "zerolinecolor": "white"
           }
          },
          "shapedefaults": {
           "line": {
            "color": "#2a3f5f"
           }
          },
          "ternary": {
           "aaxis": {
            "gridcolor": "white",
            "linecolor": "white",
            "ticks": ""
           },
           "baxis": {
            "gridcolor": "white",
            "linecolor": "white",
            "ticks": ""
           },
           "bgcolor": "#E5ECF6",
           "caxis": {
            "gridcolor": "white",
            "linecolor": "white",
            "ticks": ""
           }
          },
          "title": {
           "x": 0.05
          },
          "xaxis": {
           "automargin": true,
           "gridcolor": "white",
           "linecolor": "white",
           "ticks": "",
           "title": {
            "standoff": 15
           },
           "zerolinecolor": "white",
           "zerolinewidth": 2
          },
          "yaxis": {
           "automargin": true,
           "gridcolor": "white",
           "linecolor": "white",
           "ticks": "",
           "title": {
            "standoff": 15
           },
           "zerolinecolor": "white",
           "zerolinewidth": 2
          }
         }
        },
        "width": 800
       }
      },
      "text/html": [
       "<div>                            <div id=\"1d926afb-1dc3-4cef-8ca5-e6fc79aaeb8f\" class=\"plotly-graph-div\" style=\"height:700px; width:800px;\"></div>            <script type=\"text/javascript\">                require([\"plotly\"], function(Plotly) {                    window.PLOTLYENV=window.PLOTLYENV || {};                                    if (document.getElementById(\"1d926afb-1dc3-4cef-8ca5-e6fc79aaeb8f\")) {                    Plotly.newPlot(                        \"1d926afb-1dc3-4cef-8ca5-e6fc79aaeb8f\",                        [{\"mode\": \"lines+markers\", \"name\": \"lines+markers\", \"type\": \"scatter3d\", \"x\": [3600.0, 3978.9473684210525, 4357.894736842105, 4736.842105263158, 5115.789473684211, 5494.736842105263, 5873.684210526316, 6252.631578947368, 6631.578947368422, 7010.526315789473, 7389.473684210527, 7768.421052631579, 8147.368421052632, 8526.315789473683, 8905.263157894737, 9284.21052631579, 9663.157894736843, 10042.105263157895, 10421.052631578947, 10800.0], \"y\": [150.0, 165.78947368421052, 181.57894736842104, 197.36842105263156, 213.1578947368421, 228.94736842105263, 244.73684210526315, 260.5263157894737, 276.3157894736842, 292.10526315789474, 307.89473684210526, 323.6842105263158, 339.4736842105263, 355.2631578947368, 371.0526315789474, 386.8421052631579, 402.63157894736844, 418.42105263157896, 434.2105263157895, 450.0], \"z\": [540.0, 551.3684210526317, 562.7368421052631, 574.1052631578947, 585.4736842105264, 596.842105263158, 608.2105263157895, 619.578947368421, 630.9473684210527, 642.3157894736843, 653.6842105263157, 665.0526315789475, 676.421052631579, 687.7894736842105, 699.1578947368422, 710.5263157894738, 721.8947368421054, 733.2631578947368, 744.6315789473686, 756.0]}, {\"mode\": \"lines+markers\", \"name\": \"lines+markers\", \"type\": \"scatter3d\", \"x\": [3600.0, 3978.9473684210525, 4357.894736842105, 4736.842105263158, 5115.789473684211, 5494.736842105263, 5873.684210526316, 6252.631578947368, 6631.578947368422, 7010.526315789473, 7389.473684210527, 7768.421052631579, 8147.368421052632, 8526.315789473683, 8905.263157894737, 9284.21052631579, 9663.157894736843, 10042.105263157895, 10421.052631578947, 10800.0], \"y\": [150.0, 165.78947368421052, 181.57894736842104, 197.36842105263156, 213.1578947368421, 228.94736842105263, 244.73684210526315, 260.5263157894737, 276.3157894736842, 292.10526315789474, 307.89473684210526, 323.6842105263158, 339.4736842105263, 355.2631578947368, 371.0526315789474, 386.8421052631579, 402.63157894736844, 418.42105263157896, 434.2105263157895, 450.0], \"z\": [600.0000000000001, 612.6315789473686, 625.2631578947369, 637.8947368421052, 650.5263157894738, 663.1578947368421, 675.7894736842105, 688.4210526315791, 701.0526315789475, 713.684210526316, 726.3157894736842, 738.9473684210527, 751.578947368421, 764.2105263157895, 776.8421052631579, 789.4736842105265, 802.1052631578949, 814.7368421052632, 827.3684210526316, 840.0]}, {\"mode\": \"lines+markers\", \"name\": \"lines+markers\", \"type\": \"scatter3d\", \"x\": [3600.0, 3978.9473684210525, 4357.894736842105, 4736.842105263158, 5115.789473684211, 5494.736842105263, 5873.684210526316, 6252.631578947368, 6631.578947368422, 7010.526315789473, 7389.473684210527, 7768.421052631579, 8147.368421052632, 8526.315789473683, 8905.263157894737, 9284.21052631579, 9663.157894736843, 10042.105263157895, 10421.052631578947, 10800.0], \"y\": [150.0, 165.78947368421052, 181.57894736842104, 197.36842105263156, 213.1578947368421, 228.94736842105263, 244.73684210526315, 260.5263157894737, 276.3157894736842, 292.10526315789474, 307.89473684210526, 323.6842105263158, 339.4736842105263, 355.2631578947368, 371.0526315789474, 386.8421052631579, 402.63157894736844, 418.42105263157896, 434.2105263157895, 450.0], \"z\": [660.0, 673.8947368421054, 687.7894736842105, 701.6842105263157, 715.578947368421, 729.4736842105265, 743.3684210526317, 757.2631578947369, 771.1578947368423, 785.0526315789475, 798.9473684210527, 812.842105263158, 826.736842105263, 840.6315789473686, 854.5263157894738, 868.4210526315791, 882.3157894736844, 896.2105263157895, 910.1052631578947, 924.0000000000002]}, {\"mode\": \"lines+markers\", \"name\": \"lines+markers\", \"type\": \"scatter3d\", \"x\": [3600.0, 3978.9473684210525, 4357.894736842105, 4736.842105263158, 5115.789473684211, 5494.736842105263, 5873.684210526316, 6252.631578947368, 6631.578947368422, 7010.526315789473, 7389.473684210527, 7768.421052631579, 8147.368421052632, 8526.315789473683, 8905.263157894737, 9284.21052631579, 9663.157894736843, 10042.105263157895, 10421.052631578947, 10800.0], \"y\": [150.0, 165.78947368421052, 181.57894736842104, 197.36842105263156, 213.1578947368421, 228.94736842105263, 244.73684210526315, 260.5263157894737, 276.3157894736842, 292.10526315789474, 307.89473684210526, 323.6842105263158, 339.4736842105263, 355.2631578947368, 371.0526315789474, 386.8421052631579, 402.63157894736844, 418.42105263157896, 434.2105263157895, 450.0], \"z\": [720.0, 735.1578947368422, 750.3157894736842, 765.4736842105261, 780.6315789473684, 795.7894736842104, 810.9473684210525, 826.1052631578948, 841.2631578947371, 856.4210526315791, 871.5789473684209, 886.7368421052632, 901.8947368421051, 917.0526315789473, 932.2105263157896, 947.3684210526317, 962.5263157894738, 977.6842105263158, 992.8421052631578, 1008.0]}, {\"mode\": \"lines+markers\", \"name\": \"lines+markers\", \"type\": \"scatter3d\", \"x\": [3600.0, 3978.9473684210525, 4357.894736842105, 4736.842105263158, 5115.789473684211, 5494.736842105263, 5873.684210526316, 6252.631578947368, 6631.578947368422, 7010.526315789473, 7389.473684210527, 7768.421052631579, 8147.368421052632, 8526.315789473683, 8905.263157894737, 9284.21052631579, 9663.157894736843, 10042.105263157895, 10421.052631578947, 10800.0], \"y\": [150.0, 165.78947368421052, 181.57894736842104, 197.36842105263156, 213.1578947368421, 228.94736842105263, 244.73684210526315, 260.5263157894737, 276.3157894736842, 292.10526315789474, 307.89473684210526, 323.6842105263158, 339.4736842105263, 355.2631578947368, 371.0526315789474, 386.8421052631579, 402.63157894736844, 418.42105263157896, 434.2105263157895, 450.0], \"z\": [780.0000000000001, 796.4210526315791, 812.8421052631578, 829.2631578947368, 845.684210526316, 862.1052631578948, 878.5263157894738, 894.9473684210526, 911.3684210526317, 927.7894736842107, 944.2105263157896, 960.6315789473686, 977.0526315789472, 993.4736842105262, 1009.8947368421053, 1026.3157894736844, 1042.7368421052633, 1059.1578947368423, 1075.578947368421, 1092.0000000000002]}, {\"mode\": \"lines+markers\", \"name\": \"lines+markers\", \"type\": \"scatter3d\", \"x\": [3600.0, 3978.9473684210525, 4357.894736842105, 4736.842105263158, 5115.789473684211, 5494.736842105263, 5873.684210526316, 6252.631578947368, 6631.578947368422, 7010.526315789473, 7389.473684210527, 7768.421052631579, 8147.368421052632, 8526.315789473683, 8905.263157894737, 9284.21052631579, 9663.157894736843, 10042.105263157895, 10421.052631578947, 10800.0], \"y\": [150.0, 165.78947368421052, 181.57894736842104, 197.36842105263156, 213.1578947368421, 228.94736842105263, 244.73684210526315, 260.5263157894737, 276.3157894736842, 292.10526315789474, 307.89473684210526, 323.6842105263158, 339.4736842105263, 355.2631578947368, 371.0526315789474, 386.8421052631579, 402.63157894736844, 418.42105263157896, 434.2105263157895, 450.0], \"z\": [840.0, 857.684210526316, 875.3684210526314, 893.0526315789472, 910.7368421052631, 928.421052631579, 946.1052631578948, 963.7894736842105, 981.4736842105265, 999.1578947368422, 1016.8421052631578, 1034.5263157894738, 1052.2105263157894, 1069.8947368421052, 1087.578947368421, 1105.263157894737, 1122.9473684210527, 1140.6315789473686, 1158.3157894736844, 1176.0]}, {\"mode\": \"lines+markers\", \"name\": \"lines+markers\", \"type\": \"scatter3d\", \"x\": [3600.0, 3978.9473684210525, 4357.894736842105, 4736.842105263158, 5115.789473684211, 5494.736842105263, 5873.684210526316, 6252.631578947368, 6631.578947368422, 7010.526315789473, 7389.473684210527, 7768.421052631579, 8147.368421052632, 8526.315789473683, 8905.263157894737, 9284.21052631579, 9663.157894736843, 10042.105263157895, 10421.052631578947, 10800.0], \"y\": [150.0, 165.78947368421052, 181.57894736842104, 197.36842105263156, 213.1578947368421, 228.94736842105263, 244.73684210526315, 260.5263157894737, 276.3157894736842, 292.10526315789474, 307.89473684210526, 323.6842105263158, 339.4736842105263, 355.2631578947368, 371.0526315789474, 386.8421052631579, 402.63157894736844, 418.42105263157896, 434.2105263157895, 450.0], \"z\": [900.0000000000001, 918.9473684210528, 937.8947368421053, 956.8421052631579, 975.7894736842104, 994.7368421052632, 1013.6842105263157, 1032.6315789473686, 1051.5789473684213, 1070.526315789474, 1089.4736842105265, 1108.4210526315792, 1127.3684210526314, 1146.3157894736842, 1165.2631578947369, 1184.2105263157896, 1203.1578947368423, 1222.1052631578948, 1241.0526315789475, 1260.0000000000002]}, {\"mode\": \"lines+markers\", \"name\": \"lines+markers\", \"type\": \"scatter3d\", \"x\": [3600.0, 3978.9473684210525, 4357.894736842105, 4736.842105263158, 5115.789473684211, 5494.736842105263, 5873.684210526316, 6252.631578947368, 6631.578947368422, 7010.526315789473, 7389.473684210527, 7768.421052631579, 8147.368421052632, 8526.315789473683, 8905.263157894737, 9284.21052631579, 9663.157894736843, 10042.105263157895, 10421.052631578947, 10800.0], \"y\": [150.0, 165.78947368421052, 181.57894736842104, 197.36842105263156, 213.1578947368421, 228.94736842105263, 244.73684210526315, 260.5263157894737, 276.3157894736842, 292.10526315789474, 307.89473684210526, 323.6842105263158, 339.4736842105263, 355.2631578947368, 371.0526315789474, 386.8421052631579, 402.63157894736844, 418.42105263157896, 434.2105263157895, 450.0], \"z\": [960.0, 980.2105263157896, 1000.4210526315788, 1020.6315789473681, 1040.842105263158, 1061.0526315789475, 1081.2631578947367, 1101.4736842105265, 1121.684210526316, 1141.8947368421054, 1162.1052631578948, 1182.3157894736842, 1202.5263157894738, 1222.736842105263, 1242.947368421053, 1263.1578947368423, 1283.368421052632, 1303.5789473684213, 1323.7894736842106, 1344.0]}, {\"mode\": \"lines+markers\", \"name\": \"lines+markers\", \"type\": \"scatter3d\", \"x\": [3600.0, 3978.9473684210525, 4357.894736842105, 4736.842105263158, 5115.789473684211, 5494.736842105263, 5873.684210526316, 6252.631578947368, 6631.578947368422, 7010.526315789473, 7389.473684210527, 7768.421052631579, 8147.368421052632, 8526.315789473683, 8905.263157894737, 9284.21052631579, 9663.157894736843, 10042.105263157895, 10421.052631578947, 10800.0], \"y\": [150.0, 165.78947368421052, 181.57894736842104, 197.36842105263156, 213.1578947368421, 228.94736842105263, 244.73684210526315, 260.5263157894737, 276.3157894736842, 292.10526315789474, 307.89473684210526, 323.6842105263158, 339.4736842105263, 355.2631578947368, 371.0526315789474, 386.8421052631579, 402.63157894736844, 418.42105263157896, 434.2105263157895, 450.0], \"z\": [1020.0, 1041.4736842105265, 1062.9473684210527, 1084.4210526315787, 1105.8947368421052, 1127.3684210526314, 1148.8421052631577, 1170.3157894736842, 1191.7894736842104, 1213.2631578947369, 1234.7368421052631, 1256.2105263157896, 1277.6842105263156, 1299.1578947368419, 1320.6315789473683, 1342.105263157895, 1363.5789473684213, 1385.052631578947, 1406.5263157894735, 1428.0]}, {\"mode\": \"lines+markers\", \"name\": \"lines+markers\", \"type\": \"scatter3d\", \"x\": [3600.0, 3978.9473684210525, 4357.894736842105, 4736.842105263158, 5115.789473684211, 5494.736842105263, 5873.684210526316, 6252.631578947368, 6631.578947368422, 7010.526315789473, 7389.473684210527, 7768.421052631579, 8147.368421052632, 8526.315789473683, 8905.263157894737, 9284.21052631579, 9663.157894736843, 10042.105263157895, 10421.052631578947, 10800.0], \"y\": [150.0, 165.78947368421052, 181.57894736842104, 197.36842105263156, 213.1578947368421, 228.94736842105263, 244.73684210526315, 260.5263157894737, 276.3157894736842, 292.10526315789474, 307.89473684210526, 323.6842105263158, 339.4736842105263, 355.2631578947368, 371.0526315789474, 386.8421052631579, 402.63157894736844, 418.42105263157896, 434.2105263157895, 450.0], \"z\": [1080.0, 1102.7368421052633, 1125.4736842105262, 1148.2105263157894, 1170.9473684210527, 1193.684210526316, 1216.421052631579, 1239.157894736842, 1261.8947368421054, 1284.6315789473686, 1307.3684210526314, 1330.105263157895, 1352.842105263158, 1375.578947368421, 1398.3157894736844, 1421.0526315789475, 1443.7894736842109, 1466.5263157894735, 1489.263157894737, 1512.0]}],                        {\"height\": 700, \"scene\": {\"camera\": {\"center\": {\"x\": 0, \"y\": 0, \"z\": 0}, \"eye\": {\"x\": 2.25, \"y\": 1.25, \"z\": 0.5}, \"up\": {\"x\": 0, \"y\": 0, \"z\": 1}}}, \"template\": {\"data\": {\"bar\": [{\"error_x\": {\"color\": \"#2a3f5f\"}, \"error_y\": {\"color\": \"#2a3f5f\"}, \"marker\": {\"line\": {\"color\": \"#E5ECF6\", \"width\": 0.5}}, \"type\": \"bar\"}], \"barpolar\": [{\"marker\": {\"line\": {\"color\": \"#E5ECF6\", \"width\": 0.5}}, \"type\": \"barpolar\"}], \"carpet\": [{\"aaxis\": {\"endlinecolor\": \"#2a3f5f\", \"gridcolor\": \"white\", \"linecolor\": \"white\", \"minorgridcolor\": \"white\", \"startlinecolor\": \"#2a3f5f\"}, \"baxis\": {\"endlinecolor\": \"#2a3f5f\", \"gridcolor\": \"white\", \"linecolor\": \"white\", \"minorgridcolor\": \"white\", \"startlinecolor\": \"#2a3f5f\"}, \"type\": \"carpet\"}], \"choropleth\": [{\"colorbar\": {\"outlinewidth\": 0, \"ticks\": \"\"}, \"type\": \"choropleth\"}], \"contour\": [{\"colorbar\": {\"outlinewidth\": 0, \"ticks\": \"\"}, \"colorscale\": [[0.0, \"#0d0887\"], [0.1111111111111111, \"#46039f\"], [0.2222222222222222, \"#7201a8\"], [0.3333333333333333, \"#9c179e\"], [0.4444444444444444, \"#bd3786\"], [0.5555555555555556, \"#d8576b\"], [0.6666666666666666, \"#ed7953\"], [0.7777777777777778, \"#fb9f3a\"], [0.8888888888888888, \"#fdca26\"], [1.0, \"#f0f921\"]], \"type\": \"contour\"}], \"contourcarpet\": [{\"colorbar\": {\"outlinewidth\": 0, \"ticks\": \"\"}, \"type\": \"contourcarpet\"}], \"heatmap\": [{\"colorbar\": {\"outlinewidth\": 0, \"ticks\": \"\"}, \"colorscale\": [[0.0, \"#0d0887\"], [0.1111111111111111, \"#46039f\"], [0.2222222222222222, \"#7201a8\"], [0.3333333333333333, \"#9c179e\"], [0.4444444444444444, \"#bd3786\"], [0.5555555555555556, \"#d8576b\"], [0.6666666666666666, \"#ed7953\"], [0.7777777777777778, \"#fb9f3a\"], [0.8888888888888888, \"#fdca26\"], [1.0, \"#f0f921\"]], \"type\": \"heatmap\"}], \"heatmapgl\": [{\"colorbar\": {\"outlinewidth\": 0, \"ticks\": \"\"}, \"colorscale\": [[0.0, \"#0d0887\"], [0.1111111111111111, \"#46039f\"], [0.2222222222222222, \"#7201a8\"], [0.3333333333333333, \"#9c179e\"], [0.4444444444444444, \"#bd3786\"], [0.5555555555555556, \"#d8576b\"], [0.6666666666666666, \"#ed7953\"], [0.7777777777777778, \"#fb9f3a\"], [0.8888888888888888, \"#fdca26\"], [1.0, \"#f0f921\"]], \"type\": \"heatmapgl\"}], \"histogram\": [{\"marker\": {\"colorbar\": {\"outlinewidth\": 0, \"ticks\": \"\"}}, \"type\": \"histogram\"}], \"histogram2d\": [{\"colorbar\": {\"outlinewidth\": 0, \"ticks\": \"\"}, \"colorscale\": [[0.0, \"#0d0887\"], [0.1111111111111111, \"#46039f\"], [0.2222222222222222, \"#7201a8\"], [0.3333333333333333, \"#9c179e\"], [0.4444444444444444, \"#bd3786\"], [0.5555555555555556, \"#d8576b\"], [0.6666666666666666, \"#ed7953\"], [0.7777777777777778, \"#fb9f3a\"], [0.8888888888888888, \"#fdca26\"], [1.0, \"#f0f921\"]], \"type\": \"histogram2d\"}], \"histogram2dcontour\": [{\"colorbar\": {\"outlinewidth\": 0, \"ticks\": \"\"}, \"colorscale\": [[0.0, \"#0d0887\"], [0.1111111111111111, \"#46039f\"], [0.2222222222222222, \"#7201a8\"], [0.3333333333333333, \"#9c179e\"], [0.4444444444444444, \"#bd3786\"], [0.5555555555555556, \"#d8576b\"], [0.6666666666666666, \"#ed7953\"], [0.7777777777777778, \"#fb9f3a\"], [0.8888888888888888, \"#fdca26\"], [1.0, \"#f0f921\"]], \"type\": \"histogram2dcontour\"}], \"mesh3d\": [{\"colorbar\": {\"outlinewidth\": 0, \"ticks\": \"\"}, \"type\": \"mesh3d\"}], \"parcoords\": [{\"line\": {\"colorbar\": {\"outlinewidth\": 0, \"ticks\": \"\"}}, \"type\": \"parcoords\"}], \"pie\": [{\"automargin\": true, \"type\": \"pie\"}], \"scatter\": [{\"marker\": {\"colorbar\": {\"outlinewidth\": 0, \"ticks\": \"\"}}, \"type\": \"scatter\"}], \"scatter3d\": [{\"line\": {\"colorbar\": {\"outlinewidth\": 0, \"ticks\": \"\"}}, \"marker\": {\"colorbar\": {\"outlinewidth\": 0, \"ticks\": \"\"}}, \"type\": \"scatter3d\"}], \"scattercarpet\": [{\"marker\": {\"colorbar\": {\"outlinewidth\": 0, \"ticks\": \"\"}}, \"type\": \"scattercarpet\"}], \"scattergeo\": [{\"marker\": {\"colorbar\": {\"outlinewidth\": 0, \"ticks\": \"\"}}, \"type\": \"scattergeo\"}], \"scattergl\": [{\"marker\": {\"colorbar\": {\"outlinewidth\": 0, \"ticks\": \"\"}}, \"type\": \"scattergl\"}], \"scattermapbox\": [{\"marker\": {\"colorbar\": {\"outlinewidth\": 0, \"ticks\": \"\"}}, \"type\": \"scattermapbox\"}], \"scatterpolar\": [{\"marker\": {\"colorbar\": {\"outlinewidth\": 0, \"ticks\": \"\"}}, \"type\": \"scatterpolar\"}], \"scatterpolargl\": [{\"marker\": {\"colorbar\": {\"outlinewidth\": 0, \"ticks\": \"\"}}, \"type\": \"scatterpolargl\"}], \"scatterternary\": [{\"marker\": {\"colorbar\": {\"outlinewidth\": 0, \"ticks\": \"\"}}, \"type\": \"scatterternary\"}], \"surface\": [{\"colorbar\": {\"outlinewidth\": 0, \"ticks\": \"\"}, \"colorscale\": [[0.0, \"#0d0887\"], [0.1111111111111111, \"#46039f\"], [0.2222222222222222, \"#7201a8\"], [0.3333333333333333, \"#9c179e\"], [0.4444444444444444, \"#bd3786\"], [0.5555555555555556, \"#d8576b\"], [0.6666666666666666, \"#ed7953\"], [0.7777777777777778, \"#fb9f3a\"], [0.8888888888888888, \"#fdca26\"], [1.0, \"#f0f921\"]], \"type\": \"surface\"}], \"table\": [{\"cells\": {\"fill\": {\"color\": \"#EBF0F8\"}, \"line\": {\"color\": \"white\"}}, \"header\": {\"fill\": {\"color\": \"#C8D4E3\"}, \"line\": {\"color\": \"white\"}}, \"type\": \"table\"}]}, \"layout\": {\"annotationdefaults\": {\"arrowcolor\": \"#2a3f5f\", \"arrowhead\": 0, \"arrowwidth\": 1}, \"coloraxis\": {\"colorbar\": {\"outlinewidth\": 0, \"ticks\": \"\"}}, \"colorscale\": {\"diverging\": [[0, \"#8e0152\"], [0.1, \"#c51b7d\"], [0.2, \"#de77ae\"], [0.3, \"#f1b6da\"], [0.4, \"#fde0ef\"], [0.5, \"#f7f7f7\"], [0.6, \"#e6f5d0\"], [0.7, \"#b8e186\"], [0.8, \"#7fbc41\"], [0.9, \"#4d9221\"], [1, \"#276419\"]], \"sequential\": [[0.0, \"#0d0887\"], [0.1111111111111111, \"#46039f\"], [0.2222222222222222, \"#7201a8\"], [0.3333333333333333, \"#9c179e\"], [0.4444444444444444, \"#bd3786\"], [0.5555555555555556, \"#d8576b\"], [0.6666666666666666, \"#ed7953\"], [0.7777777777777778, \"#fb9f3a\"], [0.8888888888888888, \"#fdca26\"], [1.0, \"#f0f921\"]], \"sequentialminus\": [[0.0, \"#0d0887\"], [0.1111111111111111, \"#46039f\"], [0.2222222222222222, \"#7201a8\"], [0.3333333333333333, \"#9c179e\"], [0.4444444444444444, \"#bd3786\"], [0.5555555555555556, \"#d8576b\"], [0.6666666666666666, \"#ed7953\"], [0.7777777777777778, \"#fb9f3a\"], [0.8888888888888888, \"#fdca26\"], [1.0, \"#f0f921\"]]}, \"colorway\": [\"#636efa\", \"#EF553B\", \"#00cc96\", \"#ab63fa\", \"#FFA15A\", \"#19d3f3\", \"#FF6692\", \"#B6E880\", \"#FF97FF\", \"#FECB52\"], \"font\": {\"color\": \"#2a3f5f\"}, \"geo\": {\"bgcolor\": \"white\", \"lakecolor\": \"white\", \"landcolor\": \"#E5ECF6\", \"showlakes\": true, \"showland\": true, \"subunitcolor\": \"white\"}, \"hoverlabel\": {\"align\": \"left\"}, \"hovermode\": \"closest\", \"mapbox\": {\"style\": \"light\"}, \"paper_bgcolor\": \"white\", \"plot_bgcolor\": \"#E5ECF6\", \"polar\": {\"angularaxis\": {\"gridcolor\": \"white\", \"linecolor\": \"white\", \"ticks\": \"\"}, \"bgcolor\": \"#E5ECF6\", \"radialaxis\": {\"gridcolor\": \"white\", \"linecolor\": \"white\", \"ticks\": \"\"}}, \"scene\": {\"xaxis\": {\"backgroundcolor\": \"#E5ECF6\", \"gridcolor\": \"white\", \"gridwidth\": 2, \"linecolor\": \"white\", \"showbackground\": true, \"ticks\": \"\", \"zerolinecolor\": \"white\"}, \"yaxis\": {\"backgroundcolor\": \"#E5ECF6\", \"gridcolor\": \"white\", \"gridwidth\": 2, \"linecolor\": \"white\", \"showbackground\": true, \"ticks\": \"\", \"zerolinecolor\": \"white\"}, \"zaxis\": {\"backgroundcolor\": \"#E5ECF6\", \"gridcolor\": \"white\", \"gridwidth\": 2, \"linecolor\": \"white\", \"showbackground\": true, \"ticks\": \"\", \"zerolinecolor\": \"white\"}}, \"shapedefaults\": {\"line\": {\"color\": \"#2a3f5f\"}}, \"ternary\": {\"aaxis\": {\"gridcolor\": \"white\", \"linecolor\": \"white\", \"ticks\": \"\"}, \"baxis\": {\"gridcolor\": \"white\", \"linecolor\": \"white\", \"ticks\": \"\"}, \"bgcolor\": \"#E5ECF6\", \"caxis\": {\"gridcolor\": \"white\", \"linecolor\": \"white\", \"ticks\": \"\"}}, \"title\": {\"x\": 0.05}, \"xaxis\": {\"automargin\": true, \"gridcolor\": \"white\", \"linecolor\": \"white\", \"ticks\": \"\", \"title\": {\"standoff\": 15}, \"zerolinecolor\": \"white\", \"zerolinewidth\": 2}, \"yaxis\": {\"automargin\": true, \"gridcolor\": \"white\", \"linecolor\": \"white\", \"ticks\": \"\", \"title\": {\"standoff\": 15}, \"zerolinecolor\": \"white\", \"zerolinewidth\": 2}}}, \"width\": 800},                        {\"responsive\": true}                    ).then(function(){\n",
       "                            \n",
       "var gd = document.getElementById('1d926afb-1dc3-4cef-8ca5-e6fc79aaeb8f');\n",
       "var x = new MutationObserver(function (mutations, observer) {{\n",
       "        var display = window.getComputedStyle(gd).display;\n",
       "        if (!display || display === 'none') {{\n",
       "            console.log([gd, 'removed!']);\n",
       "            Plotly.purge(gd);\n",
       "            observer.disconnect();\n",
       "        }}\n",
       "}});\n",
       "\n",
       "// Listen for the removal of the full notebook cells\n",
       "var notebookContainer = gd.closest('#notebook-container');\n",
       "if (notebookContainer) {{\n",
       "    x.observe(notebookContainer, {childList: true});\n",
       "}}\n",
       "\n",
       "// Listen for the clearing of the current output cell\n",
       "var outputEl = gd.closest('.output');\n",
       "if (outputEl) {{\n",
       "    x.observe(outputEl, {childList: true});\n",
       "}}\n",
       "\n",
       "                        })                };                });            </script>        </div>"
      ]
     },
     "metadata": {},
     "output_type": "display_data"
    }
   ],
   "source": [
    "import plotly.graph_objects as go\n",
    "x=df['Q']\n",
    "y=df['DBO0']\n",
    "z=df['vol0']\n",
    "z2=df['vol1']\n",
    "\n",
    "fig=go.Figure()\n",
    "for i in range(len(yrange)):\n",
    "    fig.add_trace(go.Scatter3d(x=x,y=y,z=df['vol'+str(i)],\n",
    "                    mode='lines+markers',\n",
    "                    name='lines+markers'))\n",
    "name = 'default'\n",
    "camera = dict(\n",
    "    up=dict(x=0, y=0, z=1),\n",
    "    center=dict(x=0, y=0, z=0),\n",
    "    eye=dict(x=2.25, y=1.25, z=0.5))\n",
    "fig.update_layout(scene_camera=camera, width=800, height=700)\n",
    "fig.show()"
   ]
  },
  {
   "cell_type": "code",
   "execution_count": 165,
   "metadata": {},
   "outputs": [
    {
     "data": {
      "text/plain": [
       "'temp-plot.html'"
      ]
     },
     "execution_count": 165,
     "metadata": {},
     "output_type": "execute_result"
    }
   ],
   "source": [
    "0.4,0.8,10"
   ]
  },
  {
   "cell_type": "code",
   "execution_count": 283,
   "metadata": {},
   "outputs": [],
   "source": [
    "variables = { 'flowrate': Q , 'DBO': S0, 'DBOfinal': S, 'Y': y,  \n",
    "            'umax': umax, 'ks': ks, 'X' : x  }"
   ]
  },
  {
   "cell_type": "code",
   "execution_count": 324,
   "metadata": {},
   "outputs": [
    {
     "data": {
      "text/plain": [
       "0.5"
      ]
     },
     "execution_count": 324,
     "metadata": {},
     "output_type": "execute_result"
    }
   ],
   "source": [
    "umax"
   ]
  },
  {
   "cell_type": "code",
   "execution_count": 325,
   "metadata": {},
   "outputs": [],
   "source": [
    "selected = variables['umax']\n",
    "\n",
    "Qrange= np.linspace(Q*0.5,Q*1.5,20) \n",
    "dborange= np.linspace(S0*0.5,S0*1.5,20)\n",
    "dbofrange = np.linspace(S*0.5,S*1.5,20)"
   ]
  },
  {
   "cell_type": "code",
   "execution_count": 326,
   "metadata": {},
   "outputs": [
    {
     "data": {
      "text/plain": [
       "0.5"
      ]
     },
     "execution_count": 326,
     "metadata": {},
     "output_type": "execute_result"
    }
   ],
   "source": [
    "selected"
   ]
  },
  {
   "cell_type": "code",
   "execution_count": 327,
   "metadata": {},
   "outputs": [],
   "source": [
    "selection = np.linspace(selected*0.5,selected*1.5, num=10)"
   ]
  },
  {
   "cell_type": "code",
   "execution_count": 307,
   "metadata": {},
   "outputs": [],
   "source": [
    "del selected"
   ]
  },
  {
   "cell_type": "code",
   "execution_count": 328,
   "metadata": {},
   "outputs": [
    {
     "data": {
      "text/plain": [
       "array([0.25      , 0.30555556, 0.36111111, 0.41666667, 0.47222222,\n",
       "       0.52777778, 0.58333333, 0.63888889, 0.69444444, 0.75      ])"
      ]
     },
     "execution_count": 328,
     "metadata": {},
     "output_type": "execute_result"
    }
   ],
   "source": [
    "selection"
   ]
  },
  {
   "cell_type": "code",
   "execution_count": null,
   "metadata": {},
   "outputs": [],
   "source": []
  }
 ],
 "metadata": {
  "kernelspec": {
   "display_name": "Python 3",
   "language": "python",
   "name": "python3"
  },
  "language_info": {
   "codemirror_mode": {
    "name": "ipython",
    "version": 3
   },
   "file_extension": ".py",
   "mimetype": "text/x-python",
   "name": "python",
   "nbconvert_exporter": "python",
   "pygments_lexer": "ipython3",
   "version": "3.7.7"
  },
  "toc": {
   "base_numbering": 1,
   "nav_menu": {},
   "number_sections": true,
   "sideBar": true,
   "skip_h1_title": false,
   "title_cell": "Table of Contents",
   "title_sidebar": "Contents",
   "toc_cell": false,
   "toc_position": {},
   "toc_section_display": true,
   "toc_window_display": false
  }
 },
 "nbformat": 4,
 "nbformat_minor": 4
}
